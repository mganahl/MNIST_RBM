{
 "cells": [
  {
   "cell_type": "code",
   "execution_count": 7,
   "metadata": {
    "collapsed": false
   },
   "outputs": [],
   "source": [
    "import sklearn as sk\n",
    "from sklearn.neural_network import BernoulliRBM\n",
    "import numpy as np\n",
    "import matplotlib.pyplot as plt\n",
    "from sklearn.externals import joblib\n"
   ]
  },
  {
   "cell_type": "markdown",
   "metadata": {},
   "source": [
    "The MNIST data set is stored in train_set_data.npy (training data) and train_set_label.npy (labels).\n",
    "It can be loaded using numpy.load. I have split off 10000 training examples as cross-validation set, so\n",
    "$N_{train}$ is only 50000"
   ]
  },
  {
   "cell_type": "code",
   "execution_count": 8,
   "metadata": {
    "collapsed": false
   },
   "outputs": [
    {
     "name": "stdout",
     "output_type": "stream",
     "text": [
      "shape of training data: (Ntrain,Nfeature)=(50000, 784)\n"
     ]
    }
   ],
   "source": [
    "train_data=np.load('train_set_data.npy')\n",
    "train_label=np.load('train_set_label.npy')\n",
    "print('shape of training data: (Ntrain,Nfeature)={0}'.format(train_data.shape))\n",
    "#rescale the data\n",
    "td=train_data*256.0/255.0\n",
    "#sweeps 30 times through training data using bathcsize of 200\n",
    "#some hyper parameters (see webpage below for details)\n",
    "nhidden=100#td.shape[1] number of hidden layers; the smaller the faster is training\n",
    "batchsize=200\n",
    "niter=50\n",
    "rbm=BernoulliRBM(n_components=nhidden,verbose=True,batch_size=batchsize,n_iter=niter)\n",
    "\n",
    "#let's initialize a second RBM and train it only very shortly; \n",
    "#we can then compare the two RBM\n",
    "#sweeps 1 times through training data using batchsizes of 10 images\n",
    "rbm_stupid=BernoulliRBM(n_components=nhidden,verbose=True,batch_size=10,n_iter=1)\n",
    "#%matplotlib inline\n"
   ]
  },
  {
   "cell_type": "markdown",
   "metadata": {},
   "source": [
    "### Train and save the RBM"
   ]
  },
  {
   "cell_type": "code",
   "execution_count": 4,
   "metadata": {
    "collapsed": false
   },
   "outputs": [
    {
     "ename": "KeyboardInterrupt",
     "evalue": "",
     "output_type": "error",
     "traceback": [
      "\u001b[0;31m---------------------------------------------------------------------------\u001b[0m",
      "\u001b[0;31mKeyboardInterrupt\u001b[0m                         Traceback (most recent call last)",
      "\u001b[0;32m<ipython-input-4-e3ba510debbd>\u001b[0m in \u001b[0;36m<module>\u001b[0;34m()\u001b[0m\n\u001b[1;32m      4\u001b[0m     \u001b[0mrbm_stupid\u001b[0m \u001b[0;34m=\u001b[0m \u001b[0mjoblib\u001b[0m\u001b[0;34m.\u001b[0m\u001b[0mload\u001b[0m\u001b[0;34m(\u001b[0m\u001b[0;34m'rbm_stupid_mnist_NH{0}.pkl'\u001b[0m\u001b[0;34m.\u001b[0m\u001b[0mformat\u001b[0m\u001b[0;34m(\u001b[0m\u001b[0mnhidden\u001b[0m\u001b[0;34m)\u001b[0m\u001b[0;34m)\u001b[0m\u001b[0;34m\u001b[0m\u001b[0m\n\u001b[1;32m      5\u001b[0m \u001b[0;32melse\u001b[0m\u001b[0;34m:\u001b[0m\u001b[0;34m\u001b[0m\u001b[0m\n\u001b[0;32m----> 6\u001b[0;31m     \u001b[0mrbm\u001b[0m\u001b[0;34m.\u001b[0m\u001b[0mfit\u001b[0m\u001b[0;34m(\u001b[0m\u001b[0mtd\u001b[0m\u001b[0;34m)\u001b[0m\u001b[0;34m\u001b[0m\u001b[0m\n\u001b[0m\u001b[1;32m      7\u001b[0m     \u001b[0mjoblib\u001b[0m\u001b[0;34m.\u001b[0m\u001b[0mdump\u001b[0m\u001b[0;34m(\u001b[0m\u001b[0mrbm\u001b[0m\u001b[0;34m,\u001b[0m \u001b[0;34m'rbm_mnist_NH{0}.pkl'\u001b[0m\u001b[0;34m.\u001b[0m\u001b[0mformat\u001b[0m\u001b[0;34m(\u001b[0m\u001b[0mnhidden\u001b[0m\u001b[0;34m)\u001b[0m\u001b[0;34m)\u001b[0m\u001b[0;34m\u001b[0m\u001b[0m\n\u001b[1;32m      8\u001b[0m     \u001b[0mrbm_uninit\u001b[0m\u001b[0;34m.\u001b[0m\u001b[0mfit\u001b[0m\u001b[0;34m(\u001b[0m\u001b[0mtd\u001b[0m\u001b[0;34m)\u001b[0m\u001b[0;34m\u001b[0m\u001b[0m\n",
      "\u001b[0;32m/usr/local/lib/python2.7/dist-packages/sklearn/neural_network/rbm.pyc\u001b[0m in \u001b[0;36mfit\u001b[0;34m(self, X, y)\u001b[0m\n\u001b[1;32m    353\u001b[0m         \u001b[0;32mfor\u001b[0m \u001b[0miteration\u001b[0m \u001b[0;32min\u001b[0m \u001b[0mxrange\u001b[0m\u001b[0;34m(\u001b[0m\u001b[0;36m1\u001b[0m\u001b[0;34m,\u001b[0m \u001b[0mself\u001b[0m\u001b[0;34m.\u001b[0m\u001b[0mn_iter\u001b[0m \u001b[0;34m+\u001b[0m \u001b[0;36m1\u001b[0m\u001b[0;34m)\u001b[0m\u001b[0;34m:\u001b[0m\u001b[0;34m\u001b[0m\u001b[0m\n\u001b[1;32m    354\u001b[0m             \u001b[0;32mfor\u001b[0m \u001b[0mbatch_slice\u001b[0m \u001b[0;32min\u001b[0m \u001b[0mbatch_slices\u001b[0m\u001b[0;34m:\u001b[0m\u001b[0;34m\u001b[0m\u001b[0m\n\u001b[0;32m--> 355\u001b[0;31m                 \u001b[0mself\u001b[0m\u001b[0;34m.\u001b[0m\u001b[0m_fit\u001b[0m\u001b[0;34m(\u001b[0m\u001b[0mX\u001b[0m\u001b[0;34m[\u001b[0m\u001b[0mbatch_slice\u001b[0m\u001b[0;34m]\u001b[0m\u001b[0;34m,\u001b[0m \u001b[0mrng\u001b[0m\u001b[0;34m)\u001b[0m\u001b[0;34m\u001b[0m\u001b[0m\n\u001b[0m\u001b[1;32m    356\u001b[0m \u001b[0;34m\u001b[0m\u001b[0m\n\u001b[1;32m    357\u001b[0m             \u001b[0;32mif\u001b[0m \u001b[0mverbose\u001b[0m\u001b[0;34m:\u001b[0m\u001b[0;34m\u001b[0m\u001b[0m\n",
      "\u001b[0;32m/usr/local/lib/python2.7/dist-packages/sklearn/neural_network/rbm.pyc\u001b[0m in \u001b[0;36m_fit\u001b[0;34m(self, v_pos, rng)\u001b[0m\n\u001b[1;32m    270\u001b[0m         \u001b[0mh_pos\u001b[0m \u001b[0;34m=\u001b[0m \u001b[0mself\u001b[0m\u001b[0;34m.\u001b[0m\u001b[0m_mean_hiddens\u001b[0m\u001b[0;34m(\u001b[0m\u001b[0mv_pos\u001b[0m\u001b[0;34m)\u001b[0m\u001b[0;34m\u001b[0m\u001b[0m\n\u001b[1;32m    271\u001b[0m         \u001b[0mv_neg\u001b[0m \u001b[0;34m=\u001b[0m \u001b[0mself\u001b[0m\u001b[0;34m.\u001b[0m\u001b[0m_sample_visibles\u001b[0m\u001b[0;34m(\u001b[0m\u001b[0mself\u001b[0m\u001b[0;34m.\u001b[0m\u001b[0mh_samples_\u001b[0m\u001b[0;34m,\u001b[0m \u001b[0mrng\u001b[0m\u001b[0;34m)\u001b[0m\u001b[0;34m\u001b[0m\u001b[0m\n\u001b[0;32m--> 272\u001b[0;31m         \u001b[0mh_neg\u001b[0m \u001b[0;34m=\u001b[0m \u001b[0mself\u001b[0m\u001b[0;34m.\u001b[0m\u001b[0m_mean_hiddens\u001b[0m\u001b[0;34m(\u001b[0m\u001b[0mv_neg\u001b[0m\u001b[0;34m)\u001b[0m\u001b[0;34m\u001b[0m\u001b[0m\n\u001b[0m\u001b[1;32m    273\u001b[0m \u001b[0;34m\u001b[0m\u001b[0m\n\u001b[1;32m    274\u001b[0m         \u001b[0mlr\u001b[0m \u001b[0;34m=\u001b[0m \u001b[0mfloat\u001b[0m\u001b[0;34m(\u001b[0m\u001b[0mself\u001b[0m\u001b[0;34m.\u001b[0m\u001b[0mlearning_rate\u001b[0m\u001b[0;34m)\u001b[0m \u001b[0;34m/\u001b[0m \u001b[0mv_pos\u001b[0m\u001b[0;34m.\u001b[0m\u001b[0mshape\u001b[0m\u001b[0;34m[\u001b[0m\u001b[0;36m0\u001b[0m\u001b[0;34m]\u001b[0m\u001b[0;34m\u001b[0m\u001b[0m\n",
      "\u001b[0;32m/usr/local/lib/python2.7/dist-packages/sklearn/neural_network/rbm.pyc\u001b[0m in \u001b[0;36m_mean_hiddens\u001b[0;34m(self, v)\u001b[0m\n\u001b[1;32m    140\u001b[0m         \u001b[0mp\u001b[0m \u001b[0;34m=\u001b[0m \u001b[0msafe_sparse_dot\u001b[0m\u001b[0;34m(\u001b[0m\u001b[0mv\u001b[0m\u001b[0;34m,\u001b[0m \u001b[0mself\u001b[0m\u001b[0;34m.\u001b[0m\u001b[0mcomponents_\u001b[0m\u001b[0;34m.\u001b[0m\u001b[0mT\u001b[0m\u001b[0;34m)\u001b[0m\u001b[0;34m\u001b[0m\u001b[0m\n\u001b[1;32m    141\u001b[0m         \u001b[0mp\u001b[0m \u001b[0;34m+=\u001b[0m \u001b[0mself\u001b[0m\u001b[0;34m.\u001b[0m\u001b[0mintercept_hidden_\u001b[0m\u001b[0;34m\u001b[0m\u001b[0m\n\u001b[0;32m--> 142\u001b[0;31m         \u001b[0;32mreturn\u001b[0m \u001b[0mexpit\u001b[0m\u001b[0;34m(\u001b[0m\u001b[0mp\u001b[0m\u001b[0;34m,\u001b[0m \u001b[0mout\u001b[0m\u001b[0;34m=\u001b[0m\u001b[0mp\u001b[0m\u001b[0;34m)\u001b[0m\u001b[0;34m\u001b[0m\u001b[0m\n\u001b[0m\u001b[1;32m    143\u001b[0m \u001b[0;34m\u001b[0m\u001b[0m\n\u001b[1;32m    144\u001b[0m     \u001b[0;32mdef\u001b[0m \u001b[0m_sample_hiddens\u001b[0m\u001b[0;34m(\u001b[0m\u001b[0mself\u001b[0m\u001b[0;34m,\u001b[0m \u001b[0mv\u001b[0m\u001b[0;34m,\u001b[0m \u001b[0mrng\u001b[0m\u001b[0;34m)\u001b[0m\u001b[0;34m:\u001b[0m\u001b[0;34m\u001b[0m\u001b[0m\n",
      "\u001b[0;31mKeyboardInterrupt\u001b[0m: "
     ]
    }
   ],
   "source": [
    "rbm.fit(td)\n",
    "joblib.dump(rbm, 'rbm_mnist_NH{0}.pkl'.format(nhidden))"
   ]
  },
  {
   "cell_type": "markdown",
   "metadata": {},
   "source": [
    "### BernoulliRBM\n",
    "is a class provided in sklearn.neural_network.BernoulliRBM. Below is a snapshot of the web-site\n"
   ]
  },
  {
   "cell_type": "code",
   "execution_count": 3,
   "metadata": {
    "collapsed": false
   },
   "outputs": [
    {
     "data": {
      "text/html": [
       "<iframe src=http://scikit-learn.org/stable/modules/generated/sklearn.neural_network.BernoulliRBM.html width=950 height=1000></iframe>"
      ],
      "text/plain": [
       "<IPython.core.display.HTML object>"
      ]
     },
     "execution_count": 3,
     "metadata": {},
     "output_type": "execute_result"
    }
   ],
   "source": [
    "import IPython\n",
    "url = 'http://scikit-learn.org/stable/modules/generated/sklearn.neural_network.BernoulliRBM.html'\n",
    "iframe = '<iframe src=' + url + ' width=950 height=1000></iframe>'\n",
    "IPython.display.HTML(iframe)\n"
   ]
  },
  {
   "cell_type": "markdown",
   "metadata": {},
   "source": [
    "## load two RBMs and compare them"
   ]
  },
  {
   "cell_type": "code",
   "execution_count": 10,
   "metadata": {
    "collapsed": false
   },
   "outputs": [],
   "source": [
    "\n",
    "nhidden=td.shape[1]\n",
    "f1='rbm_uninit_mnist_NH{0}.pkl'.format(nhidden)\n",
    "f2='rbm_mnist_NH{0}.pkl'.format(nhidden)\n",
    "rbm_uninit = joblib.load(f1) \n",
    "rbm = joblib.load(f2) "
   ]
  },
  {
   "cell_type": "markdown",
   "metadata": {},
   "source": [
    "## Perform Gibbs sampling using the trained RBM\n",
    "We start from a randomly chosen training sample"
   ]
  },
  {
   "cell_type": "code",
   "execution_count": null,
   "metadata": {
    "collapsed": false
   },
   "outputs": [
    {
     "name": "stderr",
     "output_type": "stream",
     "text": [
      "Exception in Tkinter callback\n",
      "Traceback (most recent call last):\n",
      "  File \"/usr/lib/python2.7/lib-tk/Tkinter.py\", line 1489, in __call__\n",
      "    return self.func(*args)\n",
      "  File \"/usr/lib/python2.7/lib-tk/Tkinter.py\", line 536, in callit\n",
      "    func(*args)\n",
      "  File \"/usr/lib/pymodules/python2.7/matplotlib/backends/backend_tkagg.py\", line 363, in idle_draw\n",
      "    self.draw()\n",
      "  File \"/usr/lib/pymodules/python2.7/matplotlib/backends/backend_tkagg.py\", line 348, in draw\n",
      "    FigureCanvasAgg.draw(self)\n",
      "  File \"/usr/lib/pymodules/python2.7/matplotlib/backends/backend_agg.py\", line 451, in draw\n",
      "    self.figure.draw(self.renderer)\n",
      "  File \"/usr/lib/pymodules/python2.7/matplotlib/artist.py\", line 55, in draw_wrapper\n",
      "    draw(artist, renderer, *args, **kwargs)\n",
      "  File \"/usr/lib/pymodules/python2.7/matplotlib/figure.py\", line 1034, in draw\n",
      "    func(*args)\n",
      "  File \"/usr/lib/pymodules/python2.7/matplotlib/artist.py\", line 55, in draw_wrapper\n",
      "    draw(artist, renderer, *args, **kwargs)\n",
      "  File \"/usr/lib/pymodules/python2.7/matplotlib/axes.py\", line 2086, in draw\n",
      "    a.draw(renderer)\n",
      "  File \"/usr/lib/pymodules/python2.7/matplotlib/artist.py\", line 55, in draw_wrapper\n",
      "    draw(artist, renderer, *args, **kwargs)\n",
      "  File \"/usr/lib/pymodules/python2.7/matplotlib/image.py\", line 364, in draw\n",
      "    im = self.make_image(renderer.get_image_magnification())\n",
      "  File \"/usr/lib/pymodules/python2.7/matplotlib/image.py\", line 626, in make_image\n",
      "    norm=self._filternorm, radius=self._filterrad)\n",
      "KeyboardInterrupt\n"
     ]
    }
   ],
   "source": [
    "import random\n",
    "\n",
    "#chose a trainingsample at random\n",
    "ind=random.randint(0,td.shape[0])\n",
    "v=td[ind,:]\n",
    "vt=v\n",
    "vut=v\n",
    "\n",
    "#you can also start from a random pixel image by uncommenting the line below:\n",
    "#v=np.random.random_sample(v.shape)\n",
    "\n",
    "N=1000 #number of daydream steps\n",
    "plt.figure(1)\n",
    "plt.figure(2)\n",
    "\n",
    "plt.ion()\n",
    "\n",
    "plt.imshow(np.reshape(1.0-v,(28,28)),cmap='gray')\n",
    "for n in range(N): \n",
    "    vt=rbm.gibbs(vt)\n",
    "    vut=rbm_uninit.gibbs(vut)\n",
    "    #plt.subplot(N1,N2,n+1)\n",
    "    plt.figure(1)\n",
    "    plt.clf()\n",
    "    plt.title('well trained RBM')\n",
    "    plt.imshow(np.reshape(1.0-vt,(28,28)),cmap='gray')\n",
    "    plt.tight_layout()\n",
    "    \n",
    "    plt.figure(2)\n",
    "    plt.pause(0.1)\n",
    "    plt.clf()\n",
    "    plt.title('stupid RBM')\n",
    "    plt.imshow(np.reshape(1.0-vut,(28,28)),cmap='gray')\n",
    "    plt.tight_layout()\n",
    "    plt.show()\n",
    "    plt.draw()\n"
   ]
  },
  {
   "cell_type": "markdown",
   "metadata": {},
   "source": [
    "For comparison, here is the Gibbs sampling for an almost untrained RBM"
   ]
  },
  {
   "cell_type": "markdown",
   "metadata": {},
   "source": [
    "## Some questions:\n",
    "1. When should we stop training? \n",
    "2. What is the meaning of the pseudo-likelihood value? Is it the log of a probability?\n",
    "3. How many steps of Gibbs-sampling are done before a data-point is collected for the evaluation of the negative statistics (see http://www.cs.toronto.edu/~hinton/absps/guideTR.pdf)\n",
    "4. How many __should__ be done?"
   ]
  },
  {
   "cell_type": "code",
   "execution_count": null,
   "metadata": {
    "collapsed": true
   },
   "outputs": [],
   "source": []
  }
 ],
 "metadata": {
  "kernelspec": {
   "display_name": "Python 2",
   "language": "python",
   "name": "python2"
  },
  "language_info": {
   "codemirror_mode": {
    "name": "ipython",
    "version": 2
   },
   "file_extension": ".py",
   "mimetype": "text/x-python",
   "name": "python",
   "nbconvert_exporter": "python",
   "pygments_lexer": "ipython2",
   "version": "2.7.6"
  }
 },
 "nbformat": 4,
 "nbformat_minor": 1
}
